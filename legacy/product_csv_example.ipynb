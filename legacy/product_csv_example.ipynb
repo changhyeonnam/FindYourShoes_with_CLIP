{
 "cells": [
  {
   "cell_type": "code",
   "execution_count": 2,
   "id": "successful-olympus",
   "metadata": {},
   "outputs": [],
   "source": [
    "import pandas as pd"
   ]
  },
  {
   "cell_type": "code",
   "execution_count": 3,
   "id": "variable-strategy",
   "metadata": {},
   "outputs": [],
   "source": [
    "dataset =[['converse high black','converse','black','high'],\n",
    "         ['converse high deep bordeaux','converse', 'deep bordeaux','high'],\n",
    "         ['converse low black','converse','black','low']]"
   ]
  },
  {
   "cell_type": "code",
   "execution_count": 5,
   "id": "greatest-thesis",
   "metadata": {},
   "outputs": [],
   "source": [
    "df = pd.DataFrame(dataset,columns=['name','brand','color' ,'hightop'])"
   ]
  },
  {
   "cell_type": "code",
   "execution_count": 6,
   "id": "musical-bullet",
   "metadata": {},
   "outputs": [
    {
     "data": {
      "text/html": [
       "<div>\n",
       "<style scoped>\n",
       "    .dataframe tbody tr th:only-of-type {\n",
       "        vertical-align: middle;\n",
       "    }\n",
       "\n",
       "    .dataframe tbody tr th {\n",
       "        vertical-align: top;\n",
       "    }\n",
       "\n",
       "    .dataframe thead th {\n",
       "        text-align: right;\n",
       "    }\n",
       "</style>\n",
       "<table border=\"1\" class=\"dataframe\">\n",
       "  <thead>\n",
       "    <tr style=\"text-align: right;\">\n",
       "      <th></th>\n",
       "      <th>name</th>\n",
       "      <th>brand</th>\n",
       "      <th>color</th>\n",
       "      <th>hightop</th>\n",
       "    </tr>\n",
       "  </thead>\n",
       "  <tbody>\n",
       "    <tr>\n",
       "      <th>0</th>\n",
       "      <td>converse high black</td>\n",
       "      <td>converse</td>\n",
       "      <td>black</td>\n",
       "      <td>high</td>\n",
       "    </tr>\n",
       "    <tr>\n",
       "      <th>1</th>\n",
       "      <td>converse high deep bordeaux</td>\n",
       "      <td>converse</td>\n",
       "      <td>deep bordeaux</td>\n",
       "      <td>high</td>\n",
       "    </tr>\n",
       "    <tr>\n",
       "      <th>2</th>\n",
       "      <td>converse low black</td>\n",
       "      <td>converse</td>\n",
       "      <td>black</td>\n",
       "      <td>low</td>\n",
       "    </tr>\n",
       "  </tbody>\n",
       "</table>\n",
       "</div>"
      ],
      "text/plain": [
       "                          name     brand          color hightop\n",
       "0          converse high black  converse          black    high\n",
       "1  converse high deep bordeaux  converse  deep bordeaux    high\n",
       "2           converse low black  converse          black     low"
      ]
     },
     "execution_count": 6,
     "metadata": {},
     "output_type": "execute_result"
    }
   ],
   "source": [
    "df"
   ]
  },
  {
   "cell_type": "code",
   "execution_count": null,
   "id": "spoken-europe",
   "metadata": {},
   "outputs": [],
   "source": []
  }
 ],
 "metadata": {
  "kernelspec": {
   "display_name": "Python 3",
   "language": "python",
   "name": "python3"
  },
  "language_info": {
   "codemirror_mode": {
    "name": "ipython",
    "version": 3
   },
   "file_extension": ".py",
   "mimetype": "text/x-python",
   "name": "python",
   "nbconvert_exporter": "python",
   "pygments_lexer": "ipython3",
   "version": "3.8.7"
  }
 },
 "nbformat": 4,
 "nbformat_minor": 5
}
